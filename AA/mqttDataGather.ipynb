{
 "cells": [
  {
   "cell_type": "code",
   "execution_count": 2,
   "id": "fbc16935",
   "metadata": {},
   "outputs": [],
   "source": [
    "from paho.mqtt import client as mqtt_client\n",
    "from datetime import datetime\n",
    "import csv\n",
    "import json"
   ]
  },
  {
   "cell_type": "code",
   "execution_count": 3,
   "id": "d4b00e11-772e-4eef-86c5-dc490d31fa55",
   "metadata": {},
   "outputs": [
    {
     "name": "stdout",
     "output_type": "stream",
     "text": [
      "2024-03-26 00:19:06.619077\n"
     ]
    }
   ],
   "source": [
    "print(datetime.now())"
   ]
  },
  {
   "cell_type": "code",
   "execution_count": null,
   "id": "5eab7151",
   "metadata": {},
   "outputs": [],
   "source": [
    "broker = 'broker.emqx.io'\n",
    "port = 1883\n",
    "topic = \"move_id/AA\"\n",
    "client_id = ''\n",
    "\n",
    "message_counter = 0  \n",
    "\n",
    "def append_to_csv(data):\n",
    "    with open('data_not_normal.csv', mode='a', newline='') as file:\n",
    "        writer = csv.writer(file)\n",
    "\n",
    "        # Check if the file is empty and write header if it is\n",
    "        if file.tell() == 0:\n",
    "            writer.writerow(['date', 'x', 'y', 'z'])\n",
    "\n",
    "        writer.writerow(data)\n",
    "\n",
    "\n",
    "def connect_mqtt() -> mqtt_client:\n",
    "    def on_connect(client, userdata, flags, rc):\n",
    "        if rc == 0:\n",
    "            print(\"Connected to MQTT Broker!\")\n",
    "        else:\n",
    "            print(\"Failed to connect, return code %d\\n\", rc)\n",
    "\n",
    "    client = mqtt_client.Client(mqtt_client.CallbackAPIVersion.VERSION1,client_id)\n",
    "    client.on_connect = on_connect\n",
    "    client.connect(broker, port)\n",
    "    return client\n",
    "\n",
    "\n",
    "def subscribe(client: mqtt_client):\n",
    "    def on_message(client, userdata, msg):\n",
    "        global message_counter  \n",
    "        time = datetime.now()\n",
    "        data = json.loads(msg.payload.decode())\n",
    "        \n",
    "        \n",
    "        x = float(data['accelerometerSensor']['x'])\n",
    "        y = float(data['accelerometerSensor']['y'])\n",
    "        z = float(data['accelerometerSensor']['z'])\n",
    "        \n",
    "        \n",
    "        append_to_csv([time, x, y, z])\n",
    "        \n",
    "        print(f\"Received `{msg.payload.decode()}` from `{msg.topic}` topic\")\n",
    "        \n",
    "        message_counter += 1 \n",
    "        \n",
    "        if message_counter >= 120:\n",
    "            print(\"Received 120 messages, stopping the run.\")\n",
    "            client.disconnect()  \n",
    "            client.loop_stop()    \n",
    "\n",
    "    client.subscribe(topic)\n",
    "    client.on_message = on_message\n",
    "\n",
    "\n",
    "def run():\n",
    "    client = connect_mqtt()\n",
    "    subscribe(client)\n",
    "    client.loop_forever()\n",
    "\n",
    "\n",
    "if __name__ == '__main__':\n",
    "    run()"
   ]
  }
 ],
 "metadata": {
  "kernelspec": {
   "display_name": "Python 3 (ipykernel)",
   "language": "python",
   "name": "python3"
  },
  "language_info": {
   "codemirror_mode": {
    "name": "ipython",
    "version": 3
   },
   "file_extension": ".py",
   "mimetype": "text/x-python",
   "name": "python",
   "nbconvert_exporter": "python",
   "pygments_lexer": "ipython3",
   "version": "3.11.5"
  }
 },
 "nbformat": 4,
 "nbformat_minor": 5
}
