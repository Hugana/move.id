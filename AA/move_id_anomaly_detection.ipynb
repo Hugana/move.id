{
 "cells": [
  {
   "cell_type": "code",
   "execution_count": 3,
   "id": "e1120ac7-8a43-46c1-989f-127e92c674dc",
   "metadata": {},
   "outputs": [],
   "source": [
    "from paho.mqtt import client as mqtt_client\n",
    "from datetime import datetime\n",
    "import csv\n",
    "import os\n",
    "import json\n",
    "from adtk.detector import SeasonalAD\n",
    "from adtk.data import validate_series\n",
    "from adtk.visualization import plot\n",
    "import matplotlib.pyplot as plt\n",
    "import pandas as pd\n",
    "import warnings\n",
    "from adtk.detector import LevelShiftAD\n",
    "warnings.filterwarnings(\"ignore\", message=\"Setting an item of incompatible dtype\")"
   ]
  },
  {
   "cell_type": "code",
   "execution_count": 4,
   "id": "1ed80530-fc5d-4f84-8193-16464bad9961",
   "metadata": {},
   "outputs": [],
   "source": [
    "def on_message_data_append(id,row):\n",
    "\n",
    "    csv_file = f\"data_csv_{id}.csv\"\n",
    "\n",
    "    if not os.path.exists(csv_file):\n",
    "        \n",
    "        with open(csv_file, mode='w', newline='') as file:\n",
    "            file.write('date,x,y,z\\n')\n",
    "\n",
    "        df = pd.read_csv(csv_file)\n",
    "        row_count = len(df)\n",
    "\n",
    "        if(row_count >= 120):\n",
    "            df.drop(0)\n",
    "\n",
    "        new_row = {'date': row[0], 'x': row[1], 'y': row[2], 'z': row[3]}\n",
    "\n",
    "        df = df.append(new_row, ignore_index=True)\n",
    "\n",
    "        df.to_csv(csv_file, index=False)"
   ]
  },
  {
   "cell_type": "code",
   "execution_count": 11,
   "id": "11c17393-feed-4635-bbe2-6eb9924a37d0",
   "metadata": {},
   "outputs": [],
   "source": [
    "def getAnomalysLevelShift(id):\n",
    "    csv_file = f\"normal_data_accelerometer.csv\"\n",
    "    \n",
    "    sleeping_data = pd.read_csv(csv_file)\n",
    "\n",
    "    # Convert 'date' column to datetime\n",
    "    sleeping_data['date'] = pd.to_datetime(sleeping_data['date'])\n",
    "\n",
    "    # Set 'date' column as the index\n",
    "    sleeping_data.set_index('date', inplace=True)\n",
    "\n",
    "    # get each axis data\n",
    "    x_axis_data = sleeping_data[\"x\"]\n",
    "    y_axis_data = sleeping_data[\"y\"]\n",
    "    z_axis_data = sleeping_data[\"z\"]\n",
    "    \n",
    "    # validating series\n",
    "    x_train = validate_series(x_axis_data)\n",
    "    y_train = validate_series(y_axis_data)\n",
    "    z_train = validate_series(z_axis_data)\n",
    "\n",
    "    # Create and fit the LevelShiftAD detector for x_train\n",
    "    level_shift_ad_x = LevelShiftAD(c=6.0, side='both', window=3)\n",
    "    anomalies_x = level_shift_ad_x.fit_detect(x_train)\n",
    "    \n",
    "    # Create and fit the LevelShiftAD detector for y_train\n",
    "    level_shift_ad_y = LevelShiftAD(c=6.0, side='both', window=3)\n",
    "    anomalies_y = level_shift_ad_y.fit_detect(y_train)\n",
    "    \n",
    "    # Create and fit the LevelShiftAD detector for z_train\n",
    "    level_shift_ad_z = LevelShiftAD(c=6.0, side='both', window=3)\n",
    "    anomalies_z = level_shift_ad_z.fit_detect(z_train)\n",
    "    \n",
    "    # Filter out NaN values from anomalies\n",
    "    non_nan_anomalies_x = anomalies_x.dropna()\n",
    "    non_nan_anomalies_y = anomalies_y.dropna()\n",
    "    non_nan_anomalies_z = anomalies_z.dropna()\n",
    "    \n",
    "    anomalies_x_dates = []\n",
    "    anomalies_y_dates = []\n",
    "    anomalies_z_dates = []\n",
    "    \n",
    "    # Append the dates of the anomalies of the x-axis\n",
    "    for anomaly_idx, anomaly in non_nan_anomalies_x.items():\n",
    "        if anomaly:\n",
    "            anomalies_x_dates.append(anomaly_idx)\n",
    "    \n",
    "    # Append the dates of the anomalies of the y-axis\n",
    "    for anomaly_idx, anomaly in non_nan_anomalies_y.items():\n",
    "        if anomaly:\n",
    "            anomalies_y_dates.append(anomaly_idx)\n",
    "    \n",
    "    # Append the dates of the anomalies of the z-axis\n",
    "    for anomaly_idx, anomaly in non_nan_anomalies_z.items():\n",
    "        if anomaly:\n",
    "            anomalies_z_dates.append(anomaly_idx)\n",
    "    \n",
    "     # Example usage:\n",
    "    print(\"Anomalies in X-axis:\", anomalies_x_dates)\n",
    "    print(\"Anomalies in Y-axis:\", anomalies_y_dates)\n",
    "    print(\"Anomalies in Z-axis:\", anomalies_z_dates)\n",
    "    \n"
   ]
  },
  {
   "cell_type": "code",
   "execution_count": 12,
   "id": "f83f2976-cf8a-409b-875f-6a9c51b9c735",
   "metadata": {},
   "outputs": [
    {
     "name": "stdout",
     "output_type": "stream",
     "text": [
      "Anomalies in X-axis: [Timestamp('2024-03-26 15:50:28.125963'), Timestamp('2024-03-26 15:50:29.253715'), Timestamp('2024-03-26 15:50:30.198182')]\n",
      "Anomalies in Y-axis: [Timestamp('2024-03-26 15:50:28.125963'), Timestamp('2024-03-26 15:50:29.253715'), Timestamp('2024-03-26 15:50:30.198182'), Timestamp('2024-03-26 15:50:31.112705')]\n",
      "Anomalies in Z-axis: []\n",
      "None\n"
     ]
    }
   ],
   "source": [
    "print(getAnomalysLevelShift(\"123\"))"
   ]
  },
  {
   "cell_type": "code",
   "execution_count": null,
   "id": "d1c4ad31-96bf-4db9-bc44-e17a6a140d07",
   "metadata": {},
   "outputs": [],
   "source": []
  }
 ],
 "metadata": {
  "kernelspec": {
   "display_name": "Python 3 (ipykernel)",
   "language": "python",
   "name": "python3"
  },
  "language_info": {
   "codemirror_mode": {
    "name": "ipython",
    "version": 3
   },
   "file_extension": ".py",
   "mimetype": "text/x-python",
   "name": "python",
   "nbconvert_exporter": "python",
   "pygments_lexer": "ipython3",
   "version": "3.11.5"
  }
 },
 "nbformat": 4,
 "nbformat_minor": 5
}
