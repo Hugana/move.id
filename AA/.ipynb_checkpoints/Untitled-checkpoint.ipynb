{
 "cells": [
  {
   "cell_type": "code",
   "execution_count": 13,
   "id": "38013cf5-40e1-489f-8496-1e3304b2a6d7",
   "metadata": {},
   "outputs": [],
   "source": [
    "from paho.mqtt import client as mqtt_client\n",
    "import random"
   ]
  },
  {
   "cell_type": "code",
   "execution_count": null,
   "id": "ba4c0393-6639-4763-9f1e-41c2244bd4b5",
   "metadata": {},
   "outputs": [
    {
     "name": "stderr",
     "output_type": "stream",
     "text": [
      "/tmp/ipykernel_150277/2632119589.py:14: DeprecationWarning: Callback API version 1 is deprecated, update to latest version\n",
      "  client = mqtt_client.Client(mqtt_client.CallbackAPIVersion.VERSION1,client_id)\n"
     ]
    },
    {
     "name": "stdout",
     "output_type": "stream",
     "text": [
      "Connected to MQTT Broker!\n",
      "Received `{\"accelerometerSensor\":{\"x\":\"-0.96\",\"y\":\"-0.01\",\"z\":\"9.6\"}}` from `test` topic\n"
     ]
    }
   ],
   "source": [
    "broker = '192.168.1.78'\n",
    "port = 1883\n",
    "topic = \"test\"\n",
    "client_id = ''\n",
    "\n",
    "\n",
    "def connect_mqtt() -> mqtt_client:\n",
    "    def on_connect(client, userdata, flags, rc):\n",
    "        if rc == 0:\n",
    "            print(\"Connected to MQTT Broker!\")\n",
    "        else:\n",
    "            print(\"Failed to connect, return code %d\\n\", rc)\n",
    "\n",
    "    client = mqtt_client.Client(mqtt_client.CallbackAPIVersion.VERSION1,client_id)\n",
    "    # client.username_pw_set(username, password)\n",
    "    client.on_connect = on_connect\n",
    "    client.connect(broker, port)\n",
    "    return client\n",
    "\n",
    "\n",
    "def subscribe(client: mqtt_client):\n",
    "    def on_message(client, userdata, msg):\n",
    "        print(f\"Received `{msg.payload.decode()}` from `{msg.topic}` topic\")\n",
    "\n",
    "    client.subscribe(topic)\n",
    "    client.on_message = on_message\n",
    "\n",
    "\n",
    "def run():\n",
    "    client = connect_mqtt()\n",
    "    subscribe(client)\n",
    "    client.loop_forever()\n",
    "\n",
    "\n",
    "if __name__ == '__main__':\n",
    "    run()\n",
    "\n"
   ]
  },
  {
   "cell_type": "code",
   "execution_count": null,
   "id": "5fe7eca4-a950-4c34-acc4-efbfcde45658",
   "metadata": {},
   "outputs": [],
   "source": []
  }
 ],
 "metadata": {
  "kernelspec": {
   "display_name": "Python 3 (ipykernel)",
   "language": "python",
   "name": "python3"
  },
  "language_info": {
   "codemirror_mode": {
    "name": "ipython",
    "version": 3
   },
   "file_extension": ".py",
   "mimetype": "text/x-python",
   "name": "python",
   "nbconvert_exporter": "python",
   "pygments_lexer": "ipython3",
   "version": "3.11.5"
  }
 },
 "nbformat": 4,
 "nbformat_minor": 5
}
