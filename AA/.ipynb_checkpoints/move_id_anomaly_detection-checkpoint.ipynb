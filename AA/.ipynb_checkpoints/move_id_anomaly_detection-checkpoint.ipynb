{
 "cells": [
  {
   "cell_type": "code",
   "execution_count": 2,
   "id": "e1120ac7-8a43-46c1-989f-127e92c674dc",
   "metadata": {},
   "outputs": [],
   "source": [
    "from paho.mqtt import client as mqtt_client\n",
    "from datetime import datetime\n",
    "import csv\n",
    "import os\n",
    "import json\n",
    "from adtk.detector import SeasonalAD\n",
    "from adtk.data import validate_series\n",
    "from adtk.visualization import plot\n",
    "import matplotlib.pyplot as plt\n",
    "import pandas as pd\n",
    "import warnings\n",
    "warnings.filterwarnings(\"ignore\", message=\"Setting an item of incompatible dtype\")"
   ]
  },
  {
   "cell_type": "code",
   "execution_count": 3,
   "id": "1ed80530-fc5d-4f84-8193-16464bad9961",
   "metadata": {},
   "outputs": [],
   "source": [
    "def on_message_data_append(id,row):\n",
    "\n",
    "    csv_file = f\"data_csv_{id}.csv\"\n",
    "\n",
    "    if not os.path.exists(csv_file):\n",
    "        \n",
    "        with open(csv_file, mode='w', newline='') as file:\n",
    "            file.write('date,x,y,z\\n')\n",
    "\n",
    "        df = pd.read_csv(csv_file)\n",
    "        row_count = len(df)\n",
    "\n",
    "        if(row_count >= 120):\n",
    "            df.drop(0)\n",
    "\n",
    "        new_row = {'date': row[0], 'x': row[1], 'y': row[2], 'z': row[3]}\n",
    "\n",
    "        df = df.append(new_row, ignore_index=True)\n",
    "\n",
    "        df.to_csv(csv_file, index=False)"
   ]
  },
  {
   "cell_type": "code",
   "execution_count": null,
   "id": "11c17393-feed-4635-bbe2-6eb9924a37d0",
   "metadata": {},
   "outputs": [],
   "source": [
    "def getAnomalysLevelShift(id):\n",
    "    \n",
    "    csv_file = f\"data_csv_{id}.csv\"\n",
    "\n",
    "    sleeping_data = pd.read_csv(csv_file)\n",
    "    "
   ]
  }
 ],
 "metadata": {
  "kernelspec": {
   "display_name": "Python 3 (ipykernel)",
   "language": "python",
   "name": "python3"
  },
  "language_info": {
   "codemirror_mode": {
    "name": "ipython",
    "version": 3
   },
   "file_extension": ".py",
   "mimetype": "text/x-python",
   "name": "python",
   "nbconvert_exporter": "python",
   "pygments_lexer": "ipython3",
   "version": "3.11.5"
  }
 },
 "nbformat": 4,
 "nbformat_minor": 5
}
