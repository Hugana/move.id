{
 "cells": [
  {
   "cell_type": "code",
   "execution_count": 7,
   "id": "c1e51a4a-85ed-4abd-9ddb-64f556ef5a4f",
   "metadata": {},
   "outputs": [
    {
     "name": "stdout",
     "output_type": "stream",
     "text": [
      "         x      y     z\n",
      "0    -0.37  -9.84  0.16\n",
      "1     4.69  -9.76 -2.81\n",
      "2    -1.39 -10.04  0.89\n",
      "3    -0.66  -9.91 -0.93\n",
      "4    -2.34 -10.63 -1.61\n",
      "..     ...    ...   ...\n",
      "109  -3.46  -9.09  0.85\n",
      "110  -3.18  -9.67  0.14\n",
      "111 -10.71  -9.37  6.31\n",
      "112 -10.66 -11.69  0.07\n",
      "113  -4.39  -6.98 -1.73\n",
      "\n",
      "[114 rows x 3 columns]\n"
     ]
    }
   ],
   "source": [
    "import pandas as pd\n",
    "\n",
    "def dict_flatten(dic):\n",
    "    flattened_dict = {}\n",
    "    for key, value in dic.items():\n",
    "        if isinstance(value, dict):\n",
    "            for k, v in value.items():\n",
    "                flattened_dict[key + '_' + k] = v\n",
    "        else:\n",
    "            flattened_dict[key] = value\n",
    "    return flattened_dict\n",
    "\n",
    "def read_csv_to_dataframe(csv_file):\n",
    "    # Read the CSV file into a DataFrame\n",
    "    sensor_data_df = pd.read_csv(csv_file)\n",
    "\n",
    "    # Convert the 'date' column to datetime type and set it as index\n",
    "    sensor_data_df['datetime'] = pd.to_datetime(sensor_data_df['date'])\n",
    "    sensor_data_df.set_index('datetime', inplace=True)\n",
    "\n",
    "    # Drop the 'date' column if not needed\n",
    "    sensor_data_df.drop(columns=['date'], inplace=True)\n",
    "\n",
    "    # Convert the dictionary data to flattened format\n",
    "    flattened_data_list = []\n",
    "    for index, row in sensor_data_df.iterrows():\n",
    "        flattened_data = dict_flatten(row.to_dict())\n",
    "        flattened_data_list.append(flattened_data)\n",
    "\n",
    "    # Convert the flattened data list to a DataFrame\n",
    "    flattened_data_df = pd.DataFrame(flattened_data_list)\n",
    "\n",
    "    return flattened_data_df\n",
    "\n",
    "# Example usage:\n",
    "csv_file = 'not_normal_data_accelerometer.csv'\n",
    "sensor_data_df = read_csv_to_dataframe(csv_file)\n",
    "print(sensor_data_df)\n"
   ]
  },
  {
   "cell_type": "code",
   "execution_count": null,
   "id": "46648f25-b3ce-44db-94f4-9cc51461a0f5",
   "metadata": {},
   "outputs": [],
   "source": []
  }
 ],
 "metadata": {
  "kernelspec": {
   "display_name": "Python 3 (ipykernel)",
   "language": "python",
   "name": "python3"
  },
  "language_info": {
   "codemirror_mode": {
    "name": "ipython",
    "version": 3
   },
   "file_extension": ".py",
   "mimetype": "text/x-python",
   "name": "python",
   "nbconvert_exporter": "python",
   "pygments_lexer": "ipython3",
   "version": "3.11.5"
  }
 },
 "nbformat": 4,
 "nbformat_minor": 5
}
