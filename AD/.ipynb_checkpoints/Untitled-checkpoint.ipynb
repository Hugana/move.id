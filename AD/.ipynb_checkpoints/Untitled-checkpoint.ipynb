{
 "cells": [
  {
   "cell_type": "code",
   "execution_count": 3,
   "id": "c1e51a4a-85ed-4abd-9ddb-64f556ef5a4f",
   "metadata": {},
   "outputs": [
    {
     "name": "stdout",
     "output_type": "stream",
     "text": [
      "{'x': [-0.37, 4.69, -1.39, -0.66, -2.34, -9.56, 1.59, -1.7, -1.44, 7.08, -1.35, -2.69, -1.83, -2.5, -6.85, -0.4, -2.99, -2.56, -3.59, -0.76, -3.27, -3.63, -2.85, -4.0, -1.91, -4.68, -3.5, -12.4, -1.04, 0.23, -3.48, -2.97, -4.36, -13.19, -3.77, -2.01, -4.97, -3.94, -2.41, -3.47, -3.48, -6.89, -7.1, -7.85, -2.52, -4.07, -4.01, -2.48, -8.3, -7.26, 2.91, -4.5, -5.48, -4.48, -2.45, 0.85, -3.35, -5.39, -3.94, -4.67, -4.51, -13.11, -1.91, -0.03, -3.82, -4.52, -5.2, -3.35, -15.16, -0.13, -0.41, -4.97, -3.97, -5.68, -3.84, -6.31, -1.61, 1.32, -4.76, -4.11, -5.75, -4.11, -10.89, -4.02, -9.7, -4.97, -3.66, -5.05, -5.73, -8.06, -9.87, 1.43, -7.53, -3.2, -4.5, -3.27, -7.18, -1.8, -2.77, -2.86, -12.96, -0.14, -3.17, -4.49, -4.85, -10.4, 0.12, -1.73, -5.48, -3.46, -3.18, -10.71, -10.66, -4.39], 'y': [-9.84, -9.76, -10.04, -9.91, -10.63, -10.55, -8.96, -9.73, -9.61, -16.09, -12.36, -14.2, -9.66, -9.47, -12.7, -6.0, -10.19, -9.55, -11.62, -13.54, -9.13, -9.58, -13.01, -12.39, -10.84, -8.96, -9.26, -8.61, -8.68, -21.12, -8.99, -9.28, -9.59, -10.05, -11.67, -12.1, -18.65, -9.49, -9.4, -9.36, -9.21, -7.42, -6.5, -7.48, -9.59, -9.43, -8.91, -9.71, -11.53, -10.71, -9.81, -10.28, -9.43, -8.75, -10.58, -9.12, -5.38, -10.18, -9.06, -9.42, -9.25, -6.07, -9.31, -5.45, -10.16, -8.85, -8.11, -9.27, -3.96, -10.69, -5.43, -10.09, -9.13, -7.63, -8.82, -9.36, -9.0, -4.1, -11.86, -8.97, -7.81, -8.34, -7.52, -7.17, -5.18, -9.12, -9.37, -9.06, -10.87, -10.28, -7.65, -6.94, -7.99, -9.19, -8.33, -9.23, -7.24, -9.4, -6.07, -10.28, -7.75, -4.95, -13.03, -9.11, -8.7, -5.72, -8.56, -5.23, -7.6, -9.09, -9.67, -9.37, -11.69, -6.98], 'z': [0.16, -2.81, 0.89, -0.93, -1.61, -3.73, -5.2, 0.33, -0.15, -8.49, 3.81, -4.18, -0.27, -0.15, -2.15, -6.58, -1.63, 0.58, 2.06, 1.58, -0.44, -0.46, 7.69, 4.05, 3.87, -0.26, -0.47, -0.87, -2.65, 0.67, -1.24, 0.74, -1.38, 0.73, 6.7, -5.3, -2.75, -1.66, 1.19, 0.07, -0.33, -18.01, -4.11, -9.55, 0.3, 0.9, -1.21, -0.13, -4.29, -1.37, 2.34, 1.91, -0.75, -0.27, 0.37, -1.9, -4.25, -4.95, -0.54, -0.76, -5.05, -3.52, 0.51, 0.49, -0.27, -0.22, -0.4, -0.55, -5.42, 0.46, -1.31, -2.43, 0.51, 0.45, 0.08, -9.55, 1.82, 0.1, -4.51, 0.63, 0.48, -0.56, -0.36, -3.83, 3.31, -3.56, 0.03, 0.88, -6.98, -1.67, 1.51, -2.65, -4.63, 0.51, 0.71, 0.03, -5.35, 0.47, -3.5, 4.42, 0.05, 0.11, 2.81, 0.39, -1.49, 1.2, 1.25, -1.84, -1.41, 0.85, 0.14, 6.31, 0.07, -1.73]}\n"
     ]
    }
   ],
   "source": [
    "import pandas as pd\n",
    "\n",
    "def dict_flatten(dic):\n",
    "    flattened_dict = {}\n",
    "    for key, value in dic.items():\n",
    "        if isinstance(value, dict):\n",
    "            for k, v in value.items():\n",
    "                flattened_dict[key + '_' + k] = v\n",
    "        else:\n",
    "            flattened_dict[key] = value\n",
    "    return flattened_dict\n",
    "\n",
    "def read_csv_to_dataframe(csv_file):\n",
    "    # Read the CSV file into a DataFrame\n",
    "    sensor_data_df = pd.read_csv(csv_file)\n",
    "\n",
    "    # Convert the 'date' column to datetime type\n",
    "    sensor_data_df['datetime'] = pd.to_datetime(sensor_data_df['date'])\n",
    "\n",
    "    # Set the 'datetime' column as the index\n",
    "    sensor_data_df.set_index('datetime', inplace=True)\n",
    "\n",
    "    # Drop the 'date' column if not needed\n",
    "    sensor_data_df.drop(columns=['date'], inplace=True)\n",
    "\n",
    "    # Convert the dictionary data to flattened format\n",
    "    flattened_data_list = []\n",
    "    for index, row in sensor_data_df.iterrows():\n",
    "        flattened_data = dict_flatten(row.to_dict())\n",
    "        flattened_data_list.append(flattened_data)\n",
    "\n",
    "    # Convert the flattened data list to a DataFrame\n",
    "    flattened_data_df = pd.DataFrame(flattened_data_list)\n",
    "\n",
    "    return flattened_data_df\n",
    "\n",
    "# Example usage:\n",
    "csv_file = 'your_csv_file.csv'\n",
    "sensor_data_df = read_csv_to_dataframe(csv_file)\n",
    "print(sensor_data_df)"
   ]
  },
  {
   "cell_type": "code",
   "execution_count": null,
   "id": "46648f25-b3ce-44db-94f4-9cc51461a0f5",
   "metadata": {},
   "outputs": [],
   "source": []
  }
 ],
 "metadata": {
  "kernelspec": {
   "display_name": "Python 3 (ipykernel)",
   "language": "python",
   "name": "python3"
  },
  "language_info": {
   "codemirror_mode": {
    "name": "ipython",
    "version": 3
   },
   "file_extension": ".py",
   "mimetype": "text/x-python",
   "name": "python",
   "nbconvert_exporter": "python",
   "pygments_lexer": "ipython3",
   "version": "3.11.5"
  }
 },
 "nbformat": 4,
 "nbformat_minor": 5
}
